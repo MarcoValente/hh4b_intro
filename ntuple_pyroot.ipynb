{
 "cells": [
  {
   "cell_type": "markdown",
   "id": "invisible-belfast",
   "metadata": {},
   "source": [
    "# Display a root ntuple with uproot\n",
    "\n",
    "Uproot is a python library allowing to easily use root-based ntuples (TTrees) together with common python analysis libraries such as `matplotlib` and `numpy`. Further details can be found inside [uproot.readthedocs.io](https://uproot.readthedocs.io/en/latest/) and [https://github.com/scikit-hep/uproot3](https://github.com/scikit-hep/uproot3). Inside this notebook we want to provide a few examples about how to import a root ntuple inside this framework and how to quickly take look ntuple variables."
   ]
  },
  {
   "cell_type": "markdown",
   "id": "ultimate-feedback",
   "metadata": {},
   "source": [
    "Firstly, let's import uproot:"
   ]
  },
  {
   "cell_type": "code",
   "execution_count": 1,
   "id": "separated-gabriel",
   "metadata": {},
   "outputs": [],
   "source": [
    "import uproot as ur"
   ]
  },
  {
   "cell_type": "markdown",
   "id": "future-retention",
   "metadata": {},
   "source": [
    "If you get no error it means you imported this correctly. Congrats! :)\n",
    "\n",
    "Now it's time to do more serious stuff. First of all we need to load the root ntuple from a root file."
   ]
  },
  {
   "cell_type": "code",
   "execution_count": 2,
   "id": "simple-parks",
   "metadata": {},
   "outputs": [
    {
     "data": {
      "text/plain": [
       "['outTree;1', 'outTree/nominal;1']"
      ]
     },
     "execution_count": 2,
     "metadata": {},
     "output_type": "execute_result"
    }
   ],
   "source": [
    "filename='/eos/home-v/valentem/work/ATLAS/HH/HL-LHC/ntuples/outputs/test_2021-04-09/mc15_14TeV.800290.Py8EG_A14NNPDF23LO_jetjet_JZ0WithSW.recon.AOD.e8185_s3595_s3600_r12316.root'\n",
    "file = ur.open(filename)\n",
    "file.keys()"
   ]
  },
  {
   "cell_type": "markdown",
   "id": "excellent-signal",
   "metadata": {},
   "source": [
    "The output should tell you that there is a `TTree` called `nominal` in a `TDirectory` called `outTree`. In order to load it in python you can do the following:"
   ]
  },
  {
   "cell_type": "code",
   "execution_count": 3,
   "id": "verified-karen",
   "metadata": {},
   "outputs": [
    {
     "name": "stdout",
     "output_type": "stream",
     "text": [
      "<TTree 'nominal' (23 branches) at 0x7f0392db5208>\n"
     ]
    }
   ],
   "source": [
    "tree_name='outTree/nominal'\n",
    "tree = file[tree_name]\n",
    "print(tree)"
   ]
  },
  {
   "cell_type": "markdown",
   "id": "instant-adjustment",
   "metadata": {},
   "source": [
    "And if it's all successful you should see as output a printout of the tree object! :) Now, you can look at which branches this TTree contains by using again the `keys()` method, similarly to a standard python dictionary:"
   ]
  },
  {
   "cell_type": "code",
   "execution_count": 4,
   "id": "collective-attention",
   "metadata": {},
   "outputs": [
    {
     "data": {
      "text/plain": [
       "['runNumber',\n",
       " 'eventNumber',\n",
       " 'lumiBlock',\n",
       " 'coreFlags',\n",
       " 'bcid',\n",
       " 'mcEventNumber',\n",
       " 'mcChannelNumber',\n",
       " 'mcEventWeight',\n",
       " 'NPV',\n",
       " 'actualInteractionsPerCrossing',\n",
       " 'averageInteractionsPerCrossing',\n",
       " 'weight_pileup',\n",
       " 'correctedAverageMu',\n",
       " 'correctedAndScaledAverageMu',\n",
       " 'correctedActualMu',\n",
       " 'correctedAndScaledActualMu',\n",
       " 'rand_run_nr',\n",
       " 'rand_lumiblock_nr',\n",
       " 'njet',\n",
       " 'jet_E',\n",
       " 'jet_pt',\n",
       " 'jet_phi',\n",
       " 'jet_eta']"
      ]
     },
     "execution_count": 4,
     "metadata": {},
     "output_type": "execute_result"
    }
   ],
   "source": [
    "tree.keys()"
   ]
  },
  {
   "cell_type": "markdown",
   "id": "completed-jimmy",
   "metadata": {},
   "source": [
    "If all it's right you should see a bunch of keys telling you what is stored in the ntuple. You won't need all these variables but the important ones will be the ones called `jet_*` which, for each event, will contain a `vector<float>` corresponding to the jets energy, transverse momentum $p_T$, etc. Another way to explore the TTree is through the `show()` method:"
   ]
  },
  {
   "cell_type": "code",
   "execution_count": 11,
   "id": "considerable-administrator",
   "metadata": {},
   "outputs": [
    {
     "name": "stdout",
     "output_type": "stream",
     "text": [
      "name                 | typename                 | interpretation                \n",
      "---------------------+--------------------------+-------------------------------\n",
      "runNumber            | int32_t                  | AsDtype('>i4')\n",
      "eventNumber          | int64_t                  | AsDtype('>i8')\n",
      "lumiBlock            | int32_t                  | AsDtype('>i4')\n",
      "coreFlags            | uint32_t                 | AsDtype('>u4')\n",
      "bcid                 | int32_t                  | AsDtype('>i4')\n",
      "mcEventNumber        | int32_t                  | AsDtype('>i4')\n",
      "mcChannelNumber      | int32_t                  | AsDtype('>i4')\n",
      "mcEventWeight        | float                    | AsDtype('>f4')\n",
      "NPV                  | int32_t                  | AsDtype('>i4')\n",
      "actualInteraction... | float                    | AsDtype('>f4')\n",
      "averageInteractio... | float                    | AsDtype('>f4')\n",
      "weight_pileup        | float                    | AsDtype('>f4')\n",
      "correctedAverageMu   | float                    | AsDtype('>f4')\n",
      "correctedAndScale... | float                    | AsDtype('>f4')\n",
      "correctedActualMu    | float                    | AsDtype('>f4')\n",
      "correctedAndScale... | float                    | AsDtype('>f4')\n",
      "rand_run_nr          | int32_t                  | AsDtype('>i4')\n",
      "rand_lumiblock_nr    | int32_t                  | AsDtype('>i4')\n",
      "njet                 | int32_t                  | AsDtype('>i4')\n",
      "jet_E                | std::vector<float>       | AsJagged(AsDtype('>f4'), he...\n",
      "jet_pt               | std::vector<float>       | AsJagged(AsDtype('>f4'), he...\n",
      "jet_phi              | std::vector<float>       | AsJagged(AsDtype('>f4'), he...\n",
      "jet_eta              | std::vector<float>       | AsJagged(AsDtype('>f4'), he...\n"
     ]
    },
    {
     "ename": "AttributeError",
     "evalue": "'Model_TTree_v20' object has no attribute 'len'",
     "output_type": "error",
     "traceback": [
      "\u001b[0;31m---------------------------------------------------------------------------\u001b[0m",
      "\u001b[0;31mAttributeError\u001b[0m                            Traceback (most recent call last)",
      "\u001b[0;32m<ipython-input-11-a5701e6e8595>\u001b[0m in \u001b[0;36m<module>\u001b[0;34m\u001b[0m\n\u001b[1;32m      1\u001b[0m \u001b[0mtree\u001b[0m\u001b[0;34m.\u001b[0m\u001b[0mshow\u001b[0m\u001b[0;34m(\u001b[0m\u001b[0;34m)\u001b[0m\u001b[0;34m\u001b[0m\u001b[0m\n\u001b[0;32m----> 2\u001b[0;31m \u001b[0mtree\u001b[0m\u001b[0;34m.\u001b[0m\u001b[0mlen\u001b[0m\u001b[0;34m(\u001b[0m\u001b[0;34m)\u001b[0m\u001b[0;34m\u001b[0m\u001b[0m\n\u001b[0m\u001b[1;32m      3\u001b[0m \u001b[0mhelp\u001b[0m\u001b[0;34m(\u001b[0m\u001b[0mtree\u001b[0m\u001b[0;34m)\u001b[0m\u001b[0;34m\u001b[0m\u001b[0m\n",
      "\u001b[0;31mAttributeError\u001b[0m: 'Model_TTree_v20' object has no attribute 'len'"
     ]
    }
   ],
   "source": [
    "tree.show()\n",
    "tree.len()\n",
    "help(tree)"
   ]
  },
  {
   "cell_type": "markdown",
   "id": "alternate-invalid",
   "metadata": {},
   "source": [
    "which also tells you the variable type associated to each branch. :) Cool right?! Now we can start to explore some numbers from the tree, for example for the jet transverse momentum called `jet_pt`."
   ]
  },
  {
   "cell_type": "code",
   "execution_count": 6,
   "id": "organic-bacteria",
   "metadata": {},
   "outputs": [
    {
     "name": "stdout",
     "output_type": "stream",
     "text": [
      "[[56.2, 50.5, 49.5, 48.7, 46.5, 45.5, 42.4, ... 16.9, 16.8, 16.5, 16.3, 16.2, 16.2]]\n"
     ]
    }
   ],
   "source": [
    "jet_pts = tree['jet_pt'].array()\n",
    "print(jet_pts)"
   ]
  },
  {
   "cell_type": "code",
   "execution_count": 7,
   "id": "regulation-madness",
   "metadata": {},
   "outputs": [
    {
     "name": "stdout",
     "output_type": "stream",
     "text": [
      "[68.3, 51.6, 47, 37.1, 35.9, 29.9, 29.6, ... 18.9, 18.7, 17.9, 17.8, 17.3, 16.6]\n"
     ]
    }
   ],
   "source": [
    "print(jet_pts[1])"
   ]
  },
  {
   "cell_type": "code",
   "execution_count": 14,
   "id": "featured-drinking",
   "metadata": {},
   "outputs": [
    {
     "data": {
      "text/plain": [
       "23"
      ]
     },
     "execution_count": 14,
     "metadata": {},
     "output_type": "execute_result"
    }
   ],
   "source": []
  },
  {
   "cell_type": "code",
   "execution_count": null,
   "id": "incorrect-strain",
   "metadata": {},
   "outputs": [],
   "source": []
  }
 ],
 "metadata": {
  "kernelspec": {
   "display_name": "Python 3",
   "language": "python",
   "name": "python3"
  },
  "language_info": {
   "codemirror_mode": {
    "name": "ipython",
    "version": 3
   },
   "file_extension": ".py",
   "mimetype": "text/x-python",
   "name": "python",
   "nbconvert_exporter": "python",
   "pygments_lexer": "ipython3",
   "version": "3.6.5"
  }
 },
 "nbformat": 4,
 "nbformat_minor": 5
}
