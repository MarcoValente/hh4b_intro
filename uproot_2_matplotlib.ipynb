{
 "cells": [
  {
   "cell_type": "markdown",
   "id": "entire-angel",
   "metadata": {},
   "source": [
    "# Make some matplotlib plots using uproot\n",
    "\n",
    "Now that you know how to open and explore a root TTree using `uproot`, it's time to make some histograms and plots using a plotting library. Instead of using ROOT for that, we will try to use the very common `matplotlib` libraries for that purpose since these have a very large support from the python community and they are also easier to use than ROOT for plotting."
   ]
  },
  {
   "cell_type": "markdown",
   "id": "plastic-programmer",
   "metadata": {},
   "source": [
    "Firstly, let's load our TTree with `uproot` again:"
   ]
  },
  {
   "cell_type": "code",
   "execution_count": 4,
   "id": "golden-liver",
   "metadata": {},
   "outputs": [
    {
     "name": "stdout",
     "output_type": "stream",
     "text": [
      "name                 | typename                 | interpretation                \n",
      "---------------------+--------------------------+-------------------------------\n",
      "runNumber            | int32_t                  | AsDtype('>i4')\n",
      "eventNumber          | int64_t                  | AsDtype('>i8')\n",
      "lumiBlock            | int32_t                  | AsDtype('>i4')\n",
      "coreFlags            | uint32_t                 | AsDtype('>u4')\n",
      "bcid                 | int32_t                  | AsDtype('>i4')\n",
      "mcEventNumber        | int32_t                  | AsDtype('>i4')\n",
      "mcChannelNumber      | int32_t                  | AsDtype('>i4')\n",
      "mcEventWeight        | float                    | AsDtype('>f4')\n",
      "NPV                  | int32_t                  | AsDtype('>i4')\n",
      "actualInteraction... | float                    | AsDtype('>f4')\n",
      "averageInteractio... | float                    | AsDtype('>f4')\n",
      "weight_pileup        | float                    | AsDtype('>f4')\n",
      "correctedAverageMu   | float                    | AsDtype('>f4')\n",
      "correctedAndScale... | float                    | AsDtype('>f4')\n",
      "correctedActualMu    | float                    | AsDtype('>f4')\n",
      "correctedAndScale... | float                    | AsDtype('>f4')\n",
      "rand_run_nr          | int32_t                  | AsDtype('>i4')\n",
      "rand_lumiblock_nr    | int32_t                  | AsDtype('>i4')\n",
      "nresolvedJets        | int32_t                  | AsDtype('>i4')\n",
      "resolvedJets_E       | std::vector<float>       | AsJagged(AsDtype('>f4'), he...\n",
      "resolvedJets_pt      | std::vector<float>       | AsJagged(AsDtype('>f4'), he...\n",
      "resolvedJets_px      | std::vector<float>       | AsJagged(AsDtype('>f4'), he...\n",
      "resolvedJets_py      | std::vector<float>       | AsJagged(AsDtype('>f4'), he...\n",
      "resolvedJets_pz      | std::vector<float>       | AsJagged(AsDtype('>f4'), he...\n",
      "resolvedJets_phi     | std::vector<float>       | AsJagged(AsDtype('>f4'), he...\n",
      "resolvedJets_eta     | std::vector<float>       | AsJagged(AsDtype('>f4'), he...\n",
      "resolvedJets_Cone... | std::vector<int32_t>     | AsJagged(AsDtype('>i4'), he...\n",
      "resolvedJets_Trut... | std::vector<int32_t>     | AsJagged(AsDtype('>i4'), he...\n",
      "resolvedJets_Trut... | std::vector<float>       | AsJagged(AsDtype('>f4'), he...\n",
      "resolvedJets_Trut... | std::vector<float>       | AsJagged(AsDtype('>f4'), he...\n",
      "resolvedJets_Trut... | std::vector<float>       | AsJagged(AsDtype('>f4'), he...\n",
      "resolvedJets_Part... | std::vector<int32_t>     | AsJagged(AsDtype('>i4'), he...\n",
      "resolvedJets_Ghos... | std::vector<float>       | AsJagged(AsDtype('>f4'), he...\n",
      "resolvedJets_truth_E | std::vector<float>       | AsJagged(AsDtype('>f4'), he...\n",
      "resolvedJets_trut... | std::vector<float>       | AsJagged(AsDtype('>f4'), he...\n",
      "resolvedJets_trut... | std::vector<float>       | AsJagged(AsDtype('>f4'), he...\n",
      "resolvedJets_trut... | std::vector<float>       | AsJagged(AsDtype('>f4'), he...\n",
      "ntruth               | int32_t                  | AsDtype('>i4')\n",
      "truth_E              | std::vector<float>       | AsJagged(AsDtype('>f4'), he...\n",
      "truth_pt             | std::vector<float>       | AsJagged(AsDtype('>f4'), he...\n",
      "truth_px             | std::vector<float>       | AsJagged(AsDtype('>f4'), he...\n",
      "truth_py             | std::vector<float>       | AsJagged(AsDtype('>f4'), he...\n",
      "truth_pz             | std::vector<float>       | AsJagged(AsDtype('>f4'), he...\n",
      "truth_phi            | std::vector<float>       | AsJagged(AsDtype('>f4'), he...\n",
      "truth_eta            | std::vector<float>       | AsJagged(AsDtype('>f4'), he...\n",
      "truth_pdgId          | std::vector<int32_t>     | AsJagged(AsDtype('>i4'), he...\n",
      "truth_status         | std::vector<int32_t>     | AsJagged(AsDtype('>i4'), he...\n",
      "truth_barcode        | std::vector<int32_t>     | AsJagged(AsDtype('>i4'), he...\n",
      "truth_is_higgs       | std::vector<int32_t>     | AsJagged(AsDtype('>i4'), he...\n",
      "truth_is_bhad        | std::vector<int32_t>     | AsJagged(AsDtype('>i4'), he...\n",
      "truth_Bdecay_x       | std::vector<float>       | AsJagged(AsDtype('>f4'), he...\n",
      "truth_Bdecay_y       | std::vector<float>       | AsJagged(AsDtype('>f4'), he...\n",
      "truth_Bdecay_z       | std::vector<float>       | AsJagged(AsDtype('>f4'), he...\n",
      "truth_nParents       | std::vector<int32_t>     | AsJagged(AsDtype('>i4'), he...\n",
      "truth_parent_pdgId   | std::vector<std::vect... | AsObjects(AsVector(True, As...\n",
      "truth_parent_barcode | std::vector<std::vect... | AsObjects(AsVector(True, As...\n",
      "truth_parent_status  | std::vector<std::vect... | AsObjects(AsVector(True, As...\n",
      "truth_nChildren      | std::vector<int32_t>     | AsJagged(AsDtype('>i4'), he...\n",
      "truth_child_pdgId    | std::vector<std::vect... | AsObjects(AsVector(True, As...\n",
      "truth_child_barcode  | std::vector<std::vect... | AsObjects(AsVector(True, As...\n",
      "truth_child_status   | std::vector<std::vect... | AsObjects(AsVector(True, As...\n",
      "truth_mtt            | double                   | AsDtype('>f8')\n",
      "isVHH                | bool                     | AsDtype('bool')\n",
      "truth_mHH            | double                   | AsDtype('>f8')\n",
      "truth_pT_H1          | double                   | AsDtype('>f8')\n",
      "resolved_nGoodJets   | int32_t                  | AsDtype('>i4')\n",
      "resolved_nBTags      | int32_t                  | AsDtype('>i4')\n",
      "resolved_nValidPa... | int32_t                  | AsDtype('>i4')\n",
      "resolved_isSR        | bool                     | AsDtype('bool')\n",
      "resolved_isVR        | bool                     | AsDtype('bool')\n",
      "resolved_isCR        | bool                     | AsDtype('bool')\n",
      "resolved_mHH         | float                    | AsDtype('>f4')\n",
      "truthjet_antikt4_pt  | std::vector<float>       | AsJagged(AsDtype('>f4'), he...\n",
      "truthjet_antikt4_eta | std::vector<float>       | AsJagged(AsDtype('>f4'), he...\n",
      "truthjet_antikt4_phi | std::vector<float>       | AsJagged(AsDtype('>f4'), he...\n",
      "truthjet_antikt4_m   | std::vector<float>       | AsJagged(AsDtype('>f4'), he...\n",
      "passedEmulatedTri... | std::vector<uint64_t>    | AsJagged(AsDtype('>u8'), he...\n",
      "weight               | float                    | AsDtype('>f4')\n",
      "weight_xs            | float                    | AsDtype('>f4')\n"
     ]
    }
   ],
   "source": [
    "import uproot as ur\n",
    "filename='/eos/home-v/valentem/work/ATLAS/HH/HL-LHC/grid_outputs/user.valentem.HH4B.600463.hh_signals..AB21.2.163.valentem_hllhc_2021-04-29_2.full_nonres_MiniNTuple.root/user.valentem.25450677._000001.MiniNTuple.root'\n",
    "file = ur.open(filename)\n",
    "\n",
    "tree_name='XhhMiniNtuple'\n",
    "tree = file[tree_name]\n",
    "tree.show()"
   ]
  },
  {
   "cell_type": "markdown",
   "id": "injured-cargo",
   "metadata": {},
   "source": [
    "Ok, now that the tree is loaded let's use matplotlib to make some plots. For example, the histograms of the jet $p_T$. Firstly, we need to load our variable containing the jets of every event."
   ]
  },
  {
   "cell_type": "code",
   "execution_count": 13,
   "id": "heavy-thursday",
   "metadata": {},
   "outputs": [
    {
     "name": "stdout",
     "output_type": "stream",
     "text": [
      "<class 'awkward.highlevel.Array'>\n"
     ]
    }
   ],
   "source": [
    "jet_pts = tree['resolvedJets_pt'].array()\n",
    "print(type(jet_pts))"
   ]
  },
  {
   "cell_type": "markdown",
   "id": "bulgarian-movement",
   "metadata": {},
   "source": [
    "You can see that the `jet_pts` object is not really a numpy object, it is an awkward array. This is because numpy arrays the allow bi-dimensional data, but only with constant size! This feature is generally not the case in particle physics as, for example, different pp collisions would probably be recorded with a different number of jets and so the vectors of jet quantities would have different sizes across the dataset. For this reason we have a specific library allowing to have variable-sized data, and this is called `awkward`. You can find more infomations here: https://awkward-array.readthedocs.io/en/latest/index.html"
   ]
  },
  {
   "cell_type": "markdown",
   "id": "continued-macintosh",
   "metadata": {},
   "source": [
    "However, it's time now to create an histogram for the jet $p_T$! I assume here that you know what a histogram is. If not please check some documentation online before moving forward.\n",
    "\n",
    "In order to fill our histogram with **all** the jets $p_T$ for every event, we have to transform our `jet_pts` variable from a variable-size 2D array to a 1D vector. This can be done using the `flatten` function of awkward:"
   ]
  },
  {
   "cell_type": "code",
   "execution_count": 31,
   "id": "golden-specification",
   "metadata": {
    "scrolled": true
   },
   "outputs": [
    {
     "name": "stdout",
     "output_type": "stream",
     "text": [
      "This is now a 1D vector as you can see here: [85.9, 70.5, 59.7, 59, 57.9, 52.5, 46.2, ... 24.1, 23.4, 21.5, 21.2, 20.9, 20.4]\n"
     ]
    }
   ],
   "source": [
    "import awkward as ak\n",
    "jet_pts_flat = ak.flatten(jet_pts)\n",
    "print('This is now a 1D vector as you can see here:',jet_pts_flat)"
   ]
  },
  {
   "cell_type": "markdown",
   "id": "faced-outline",
   "metadata": {},
   "source": [
    "We can now create an histogram using `numpy` and specifying how many bins and range we want to use for that:"
   ]
  },
  {
   "cell_type": "code",
   "execution_count": 39,
   "id": "nominated-tournament",
   "metadata": {},
   "outputs": [
    {
     "name": "stdout",
     "output_type": "stream",
     "text": [
      "edges: [  0.   1.   2.   3.   4.   5.   6.   7.   8.   9.  10.  11.  12.  13.\n",
      "  14.  15.  16.  17.  18.  19.  20.  21.  22.  23.  24.  25.  26.  27.\n",
      "  28.  29.  30.  31.  32.  33.  34.  35.  36.  37.  38.  39.  40.  41.\n",
      "  42.  43.  44.  45.  46.  47.  48.  49.  50.  51.  52.  53.  54.  55.\n",
      "  56.  57.  58.  59.  60.  61.  62.  63.  64.  65.  66.  67.  68.  69.\n",
      "  70.  71.  72.  73.  74.  75.  76.  77.  78.  79.  80.  81.  82.  83.\n",
      "  84.  85.  86.  87.  88.  89.  90.  91.  92.  93.  94.  95.  96.  97.\n",
      "  98.  99. 100. 101. 102. 103. 104. 105. 106. 107. 108. 109. 110. 111.\n",
      " 112. 113. 114. 115. 116. 117. 118. 119. 120.]\n",
      "counts: [     0      0      0      0      0      0      0      0      0      0\n",
      "      0      0      0      0      0      0      0      0      0      0\n",
      " 188293 180804 165426 147404 128695 109510  93716  80737  71750  63070\n",
      "  56160  50375  45569  42185  39051  36954  35326  33784  33391  32924\n",
      "  32275  32428  32308  32510  32718  33077  33129  33032  33191  33230\n",
      "  33401  33095  32803  31879  31125  30620  29467  28147  26667  24852\n",
      "  23260  21558  20239  18395  16808  15502  14050  13091  11876  10859\n",
      "  10024   9225   8624   8199   7476   7167   6613   6169   5901   5469\n",
      "   5236   4934   4607   4471   4536   4186   4010   3823   3750   3637\n",
      "   3461   3392   3251   3157   3127   2979   3050   2881   2768   2807\n",
      "   2695   2551   2655   2619   2494   2528   2381   2384   2385   2344\n",
      "   2265   2249   2196   2163   2142   2094   2064   1970   2029   1981]\n"
     ]
    }
   ],
   "source": [
    "import numpy as np\n",
    "counts, edges = np.histogram(jet_pts_flat, bins=120, range=(0, 120))\n",
    "print('edges:',edges)\n",
    "print('counts:',counts)"
   ]
  },
  {
   "cell_type": "markdown",
   "id": "premium-breath",
   "metadata": {},
   "source": [
    "You can see here that `edges` contains the edges of the bins (i.e. the 120 bins between 0 and 120) while `counts` contains the number of jets counted in each bin.\n",
    "\n",
    "We are now ready to produce a plot of our histogram using `matplotlib`. Here's an example"
   ]
  },
  {
   "cell_type": "code",
   "execution_count": 40,
   "id": "critical-lincoln",
   "metadata": {},
   "outputs": [
    {
     "data": {
      "text/plain": [
       "Text(0, 0.5, 'Events per bin')"
      ]
     },
     "execution_count": 40,
     "metadata": {},
     "output_type": "execute_result"
    },
    {
     "data": {
      "image/png": "[encoded data removed]",
      "text/plain": [
       "<Figure size 432x288 with 1 Axes>"
      ]
     },
     "metadata": {
      "needs_background": "light"
     },
     "output_type": "display_data"
    }
   ],
   "source": [
    "import matplotlib.pyplot as plt\n",
    "\n",
    "plt.step(x=edges, y=np.append(counts, 0)) #This makes a histogram plot\n",
    "plt.xlim(edges[0], edges[-1]) #Here you can set the x-limits\n",
    "plt.ylim(0, counts.max() * 1.1) #Here you can set the y-limits\n",
    "\n",
    "#And here you set the labels\n",
    "plt.xlabel(\"Jet $p_T$ (GeV)\")\n",
    "plt.ylabel(\"Events per bin\")"
   ]
  },
  {
   "cell_type": "markdown",
   "id": "buried-drove",
   "metadata": {},
   "source": [
    "I can try to repeat the same procedure but only for jets with $p_T>100\\;\\text{GeV}$. This is easy using the technique explored in the previous notebook."
   ]
  },
  {
   "cell_type": "code",
   "execution_count": 41,
   "id": "excited-xerox",
   "metadata": {},
   "outputs": [
    {
     "name": "stdout",
     "output_type": "stream",
     "text": [
      "[146, 283, 243, 139, 166, 138, 223, 103, ... 165, 143, 125, 195, 170, 185, 150, 126]\n"
     ]
    }
   ],
   "source": [
    "sel = jet_pts>100\n",
    "jet_pts_100 = ak.flatten(jet_pts[sel]) #I am already flattening here\n",
    "print(jet_pts_100)"
   ]
  },
  {
   "cell_type": "markdown",
   "id": "difficult-while",
   "metadata": {},
   "source": [
    "Now I can create the histogram and plot as above:"
   ]
  },
  {
   "cell_type": "code",
   "execution_count": 42,
   "id": "educational-sympathy",
   "metadata": {},
   "outputs": [
    {
     "data": {
      "text/plain": [
       "Text(0, 0.5, 'Events per bin')"
      ]
     },
     "execution_count": 42,
     "metadata": {},
     "output_type": "execute_result"
    },
    {
     "data": {
      "image/png": "[encoded data removed]",
      "text/plain": [
       "<Figure size 432x288 with 1 Axes>"
      ]
     },
     "metadata": {
      "needs_background": "light"
     },
     "output_type": "display_data"
    }
   ],
   "source": [
    "import numpy as np\n",
    "counts, edges = np.histogram(jet_pts_100, bins=120, range=(0, 120))\n",
    "\n",
    "plt.step(x=edges, y=np.append(counts, 0)) #This makes a histogram plot\n",
    "plt.xlim(edges[0], edges[-1]) #Here you can set the x-limits\n",
    "plt.ylim(0, counts.max() * 1.1) #Here you can set the y-limits\n",
    "\n",
    "#And here you set the labels\n",
    "plt.xlabel(\"Jet $p_T$ (GeV)\")\n",
    "plt.ylabel(\"Events per bin\")"
   ]
  },
  {
   "cell_type": "markdown",
   "id": "painful-methodology",
   "metadata": {},
   "source": [
    "And if everything looks fine you should see that the histograms starts at 100 GeV. :) So, now I propose that you make more plots of your variables, trying to play a bit with the cuts in order to understand better how the variables behave. You can also make some 2D plots of the jets to learn more about 2D matplotlib plots."
   ]
  },
  {
   "cell_type": "code",
   "execution_count": null,
   "id": "instant-simon",
   "metadata": {},
   "outputs": [],
   "source": []
  }
 ],
 "metadata": {
  "kernelspec": {
   "display_name": "Python 3",
   "language": "python",
   "name": "python3"
  },
  "language_info": {
   "codemirror_mode": {
    "name": "ipython",
    "version": 3
   },
   "file_extension": ".py",
   "mimetype": "text/x-python",
   "name": "python",
   "nbconvert_exporter": "python",
   "pygments_lexer": "ipython3",
   "version": "3.6.5"
  }
 },
 "nbformat": 4,
 "nbformat_minor": 5
}
