{
 "cells": [
  {
   "cell_type": "markdown",
   "id": "diagnostic-grenada",
   "metadata": {},
   "source": [
    "# Make some matplotlib plots using uproot\n",
    "\n",
    "Now that you know how to open and explore a root TTree using `uproot`, it's time to make some histograms and plots using a plotting library. Instead of using ROOT for that, we will try to use the very common `matplotlib` libraries for that purpose since these have a very large support from the python community and they are also easier to use than ROOT for plotting."
   ]
  },
  {
   "cell_type": "markdown",
   "id": "significant-senegal",
   "metadata": {},
   "source": [
    "Firstly, let's load our TTree with `uproot` again:"
   ]
  },
  {
   "cell_type": "code",
   "execution_count": null,
   "id": "clinical-monitor",
   "metadata": {},
   "outputs": [],
   "source": [
    "import uproot as ur\n",
    "filename='/eos/home-v/valentem/work/ATLAS/HH/HL-LHC/grid_outputs/user.valentem.HH4B.600463.hh_signals..AB21.2.163.valentem_hllhc_2021-04-29_2.full_nonres_MiniNTuple.root/user.valentem.25450677._000001.MiniNTuple.root'\n",
    "file = ur.open(filename)\n",
    "\n",
    "tree_name='XhhMiniNtuple'\n",
    "tree = file[tree_name]\n",
    "tree.show()"
   ]
  },
  {
   "cell_type": "markdown",
   "id": "swedish-sustainability",
   "metadata": {},
   "source": [
    "Ok, now that the tree is loaded let's use matplotlib to make some plots. For example, the histograms of the jet $p_T$. Firstly, we need to load our variable containing the jets of every event."
   ]
  },
  {
   "cell_type": "code",
   "execution_count": null,
   "id": "distributed-queue",
   "metadata": {},
   "outputs": [],
   "source": [
    "jet_pts = tree['resolvedJets_pt'].array()\n",
    "print(type(jet_pts))"
   ]
  },
  {
   "cell_type": "markdown",
   "id": "virtual-promotion",
   "metadata": {},
   "source": [
    "You can see that the `jet_pts` object is not really a numpy object, it is an awkward array. This is because numpy arrays the allow bi-dimensional data, but only with constant size! This feature is generally not the case in particle physics as, for example, different pp collisions would probably be recorded with a different number of jets and so the vectors of jet quantities would have different sizes across the dataset. For this reason we have a specific library allowing to have variable-sized data, and this is called `awkward`. You can find more infomations here: https://awkward-array.readthedocs.io/en/latest/index.html"
   ]
  },
  {
   "cell_type": "markdown",
   "id": "fiscal-power",
   "metadata": {},
   "source": [
    "However, it's time now to create an histogram for the jet $p_T$! I assume here that you know what a histogram is. If not please check some documentation online before moving forward.\n",
    "\n",
    "In order to fill our histogram with **all** the jets $p_T$ for every event, we have to transform our `jet_pts` variable from a variable-size 2D array to a 1D vector. This can be done using the `flatten` function of awkward:"
   ]
  },
  {
   "cell_type": "code",
   "execution_count": null,
   "id": "running-energy",
   "metadata": {
    "scrolled": true
   },
   "outputs": [],
   "source": [
    "import awkward as ak\n",
    "jet_pts_flat = ak.flatten(jet_pts)\n",
    "print('This is now a 1D vector as you can see here:',jet_pts_flat)"
   ]
  },
  {
   "cell_type": "markdown",
   "id": "steady-adult",
   "metadata": {},
   "source": [
    "We can now create an histogram using `numpy` and specifying how many bins and range we want to use for that:"
   ]
  },
  {
   "cell_type": "code",
   "execution_count": null,
   "id": "dutch-sunrise",
   "metadata": {},
   "outputs": [],
   "source": [
    "import numpy as np\n",
    "counts, edges = np.histogram(jet_pts_flat, bins=120, range=(0, 120))\n",
    "print('edges:',edges)\n",
    "print('counts:',counts)"
   ]
  },
  {
   "cell_type": "markdown",
   "id": "decreased-color",
   "metadata": {},
   "source": [
    "You can see here that `edges` contains the edges of the bins (i.e. the 120 bins between 0 and 120) while `counts` contains the number of jets counted in each bin.\n",
    "\n",
    "We are now ready to produce a plot of our histogram using `matplotlib`. Here's an example"
   ]
  },
  {
   "cell_type": "code",
   "execution_count": null,
   "id": "matched-experience",
   "metadata": {},
   "outputs": [],
   "source": [
    "import matplotlib.pyplot as plt\n",
    "\n",
    "plt.step(x=edges, y=np.append(counts, 0)) #This makes a histogram plot\n",
    "plt.xlim(edges[0], edges[-1]) #Here you can set the x-limits\n",
    "plt.ylim(0, counts.max() * 1.1) #Here you can set the y-limits\n",
    "\n",
    "#And here you set the labels\n",
    "plt.xlabel(\"Jet $p_T$ (GeV)\")\n",
    "plt.ylabel(\"Events per bin\")"
   ]
  },
  {
   "cell_type": "markdown",
   "id": "daily-employee",
   "metadata": {},
   "source": [
    "I can try to repeat the same procedure but only for jets with $p_T>100\\;\\text{GeV}$. This is easy using the technique explored in the previous notebook."
   ]
  },
  {
   "cell_type": "code",
   "execution_count": null,
   "id": "quality-model",
   "metadata": {},
   "outputs": [],
   "source": [
    "sel = jet_pts>100\n",
    "jet_pts_100 = ak.flatten(jet_pts[sel]) #I am already flattening here\n",
    "print(jet_pts_100)"
   ]
  },
  {
   "cell_type": "markdown",
   "id": "educated-morning",
   "metadata": {},
   "source": [
    "Now I can create the histogram and plot as above:"
   ]
  },
  {
   "cell_type": "code",
   "execution_count": null,
   "id": "increasing-salon",
   "metadata": {},
   "outputs": [],
   "source": [
    "import numpy as np\n",
    "counts, edges = np.histogram(jet_pts_100, bins=120, range=(0, 120))\n",
    "\n",
    "plt.step(x=edges, y=np.append(counts, 0)) #This makes a histogram plot\n",
    "plt.xlim(edges[0], edges[-1]) #Here you can set the x-limits\n",
    "plt.ylim(0, counts.max() * 1.1) #Here you can set the y-limits\n",
    "\n",
    "#And here you set the labels\n",
    "plt.xlabel(\"Jet $p_T$ (GeV)\")\n",
    "plt.ylabel(\"Events per bin\")"
   ]
  },
  {
   "cell_type": "markdown",
   "id": "adult-writing",
   "metadata": {},
   "source": [
    "And if everything looks fine you should see that the histograms starts at 100 GeV. :) So, now I propose that you make more plots of your variables, trying to play a bit with the cuts in order to understand better how the variables behave. You can also make some 2D plots of the jets to learn more about 2D matplotlib plots."
   ]
  },
  {
   "cell_type": "code",
   "execution_count": null,
   "id": "multiple-necklace",
   "metadata": {},
   "outputs": [],
   "source": []
  }
 ],
 "metadata": {
  "kernelspec": {
   "display_name": "Python 3",
   "language": "python",
   "name": "python3"
  },
  "language_info": {
   "codemirror_mode": {
    "name": "ipython",
    "version": 3
   },
   "file_extension": ".py",
   "mimetype": "text/x-python",
   "name": "python",
   "nbconvert_exporter": "python",
   "pygments_lexer": "ipython3",
   "version": "3.6.5"
  }
 },
 "nbformat": 4,
 "nbformat_minor": 5
}
