{
 "cells": [
  {
   "cell_type": "markdown",
   "id": "brutal-change",
   "metadata": {},
   "source": [
    "# Explore a root ntuple using uproot\n",
    "\n",
    "Uproot is a python library allowing to easily use root-based ntuples (TTrees) together with common python analysis libraries such as `matplotlib` and `numpy`. Further details can be found inside [uproot.readthedocs.io](https://uproot.readthedocs.io/en/latest/) and [https://github.com/scikit-hep/uproot3](https://github.com/scikit-hep/uproot3). Inside this notebook we want to provide a few examples about how to import a root ntuple inside this framework and how to quickly take look ntuple variables."
   ]
  },
  {
   "cell_type": "markdown",
   "id": "adequate-bedroom",
   "metadata": {},
   "source": [
    "Firstly, let's import uproot:"
   ]
  },
  {
   "cell_type": "code",
   "execution_count": null,
   "id": "reserved-roots",
   "metadata": {},
   "outputs": [],
   "source": [
    "import uproot as ur"
   ]
  },
  {
   "cell_type": "markdown",
   "id": "vocational-queensland",
   "metadata": {},
   "source": [
    "If you get no error it means you imported this correctly. Congrats! :)\n",
    "\n",
    "Now it's time to do more serious stuff. First of all we need to load the root ntuple from a root file."
   ]
  },
  {
   "cell_type": "code",
   "execution_count": null,
   "id": "logical-strategy",
   "metadata": {},
   "outputs": [],
   "source": [
    "filename='/eos/home-v/valentem/work/ATLAS/HH/HL-LHC/grid_outputs/user.valentem.HH4B.600463.hh_signals..AB21.2.163.valentem_hllhc_2021-04-29_2.full_nonres_MiniNTuple.root/user.valentem.25450677._000001.MiniNTuple.root'\n",
    "file = ur.open(filename)\n",
    "file.keys()"
   ]
  },
  {
   "cell_type": "markdown",
   "id": "common-atmosphere",
   "metadata": {},
   "source": [
    "The output should tell you that there is a `TTree` called `XhhMiniNtuple` and 3 other histograms (these shows some data information, but they are not really useful now). In order to load the TTree in python you can do the following:"
   ]
  },
  {
   "cell_type": "code",
   "execution_count": null,
   "id": "outer-closure",
   "metadata": {},
   "outputs": [],
   "source": [
    "tree_name='XhhMiniNtuple'\n",
    "tree = file[tree_name]\n",
    "print(tree)"
   ]
  },
  {
   "cell_type": "markdown",
   "id": "improving-winner",
   "metadata": {},
   "source": [
    "And if it's all successful you should see as output a printout of the tree object! :) Now, you can look at which branches this TTree contains by using again the `keys()` method, similarly to a standard python dictionary:"
   ]
  },
  {
   "cell_type": "code",
   "execution_count": null,
   "id": "swedish-davis",
   "metadata": {},
   "outputs": [],
   "source": [
    "tree.keys()"
   ]
  },
  {
   "cell_type": "markdown",
   "id": "breathing-abraham",
   "metadata": {},
   "source": [
    "If all it's right you should see a bunch of keys telling you what is stored in the ntuple. You won't need all these variables but the important ones will be the ones called `resolvedJets_*` which, for each event, will contain a `vector<float>` corresponding to the jets energy, transverse momentum $p_T$, etc. Another way to explore the TTree is through the `show()` method:"
   ]
  },
  {
   "cell_type": "code",
   "execution_count": null,
   "id": "valued-magic",
   "metadata": {},
   "outputs": [],
   "source": [
    "tree.show()\n",
    "print('\\nThe number of entries for this TTree is', tree.num_entries)"
   ]
  },
  {
   "cell_type": "markdown",
   "id": "automotive-leone",
   "metadata": {},
   "source": [
    "which also tells you the variable type associated to each branch. :) Cool right?! Now we can start to explore some numbers from the tree, for example for the jet transverse momentum called `resolvedJets_pt`."
   ]
  },
  {
   "cell_type": "code",
   "execution_count": null,
   "id": "continent-therapy",
   "metadata": {},
   "outputs": [],
   "source": [
    "jet_pts = tree['resolvedJets_pt'].array()\n",
    "print(jet_pts)"
   ]
  },
  {
   "cell_type": "markdown",
   "id": "electrical-climate",
   "metadata": {},
   "source": [
    "The loaded object will be a list containing all the jet $p_T$ for all the events. For example, for a specific event we can load the pT of the jets with:"
   ]
  },
  {
   "cell_type": "code",
   "execution_count": null,
   "id": "interim-centre",
   "metadata": {
    "scrolled": false
   },
   "outputs": [],
   "source": [
    "evt_num=1\n",
    "print(jet_pts[evt_num],len(jet_pts[evt_num]))"
   ]
  },
  {
   "cell_type": "markdown",
   "id": "smooth-concert",
   "metadata": {},
   "source": [
    "This vector is the vector containing the $p_T$ or all the jets in the event corresponding to index 1. You can see that this event has a total of 29 jets (this is quite high because of pileup). You can explore other events by changing the index. :)"
   ]
  },
  {
   "cell_type": "markdown",
   "id": "minute-tracker",
   "metadata": {},
   "source": [
    "For the same event, you can look also at other variables of the jets, for example the $\\eta$ and $\\phi$ coordinates:"
   ]
  },
  {
   "cell_type": "code",
   "execution_count": null,
   "id": "another-ebony",
   "metadata": {},
   "outputs": [],
   "source": [
    "jet_eta = tree['resolvedJets_eta'].array()\n",
    "jet_phi = tree['resolvedJets_phi'].array()\n",
    "\n",
    "print(jet_eta[evt_num])\n",
    "print(jet_phi[evt_num])"
   ]
  },
  {
   "cell_type": "markdown",
   "id": "likely-advertising",
   "metadata": {},
   "source": [
    "We can even apply some selections using standard `numpy` array operations. For example, if I want to check the $\\eta$ coordinate of all the jets with $p_T > 100\\;\\text{GeV}$ what I can do is:"
   ]
  },
  {
   "cell_type": "code",
   "execution_count": null,
   "id": "vocal-allowance",
   "metadata": {},
   "outputs": [],
   "source": [
    "selection=jet_pts>100.\n",
    "print(selection) #This will correspond to an array of booleans arrays (True or False) specifying if the jet in this position satisfies indeed pT > 100"
   ]
  },
  {
   "cell_type": "markdown",
   "id": "standard-pension",
   "metadata": {},
   "source": [
    "We can then select all the jets passing this selection with:"
   ]
  },
  {
   "cell_type": "code",
   "execution_count": null,
   "id": "rural-competition",
   "metadata": {},
   "outputs": [],
   "source": [
    "jet_pts_100GeV = jet_pts[selection]\n",
    "print(jet_pts_100GeV)"
   ]
  },
  {
   "cell_type": "markdown",
   "id": "hungry-heather",
   "metadata": {},
   "source": [
    "If everything is right, you should see that all the pT of `jet_pts_100GeV` is larger than 100 GeV. You can do the same thing with the jet_eta, phi, etc. For example:"
   ]
  },
  {
   "cell_type": "code",
   "execution_count": null,
   "id": "initial-platinum",
   "metadata": {},
   "outputs": [],
   "source": [
    "jet_eta_100GeV = jet_eta[selection]\n",
    "jet_phi_100GeV = jet_phi[selection]\n",
    "print(jet_eta_100GeV)"
   ]
  },
  {
   "cell_type": "markdown",
   "id": "smaller-representative",
   "metadata": {},
   "source": [
    "This will tell you the $\\eta$ coordinate of the jets having $p_T$ greater than $100\\;\\text{GeV}$. Now, what you can do is: learn more about uproot and the variables stored in the ntuples. You don't need to understand all of those for now, but try to understand what these are as much as you can by making selections about some of these."
   ]
  },
  {
   "cell_type": "code",
   "execution_count": null,
   "id": "effective-canon",
   "metadata": {},
   "outputs": [],
   "source": []
  }
 ],
 "metadata": {
  "kernelspec": {
   "display_name": "Python 3",
   "language": "python",
   "name": "python3"
  },
  "language_info": {
   "codemirror_mode": {
    "name": "ipython",
    "version": 3
   },
   "file_extension": ".py",
   "mimetype": "text/x-python",
   "name": "python",
   "nbconvert_exporter": "python",
   "pygments_lexer": "ipython3",
   "version": "3.6.5"
  }
 },
 "nbformat": 4,
 "nbformat_minor": 5
}
