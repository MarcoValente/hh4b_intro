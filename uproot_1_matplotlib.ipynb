{
 "cells": [
  {
   "cell_type": "markdown",
   "id": "qualified-pride",
   "metadata": {},
   "source": [
    "# Explore a root ntuple using uproot\n",
    "\n",
    "Uproot is a python library allowing to easily use root-based ntuples (TTrees) together with common python analysis libraries such as `matplotlib` and `numpy`. Further details can be found inside [uproot.readthedocs.io](https://uproot.readthedocs.io/en/latest/) and [https://github.com/scikit-hep/uproot3](https://github.com/scikit-hep/uproot3). Inside this notebook we want to provide a few examples about how to import a root ntuple inside this framework and how to quickly take look ntuple variables."
   ]
  },
  {
   "cell_type": "markdown",
   "id": "scenic-hamilton",
   "metadata": {},
   "source": [
    "Firstly, let's import uproot:"
   ]
  },
  {
   "cell_type": "code",
   "execution_count": 2,
   "id": "innocent-species",
   "metadata": {},
   "outputs": [],
   "source": [
    "import uproot as ur"
   ]
  },
  {
   "cell_type": "markdown",
   "id": "iraqi-texas",
   "metadata": {},
   "source": [
    "If you get no error it means you imported this correctly. Congrats! :)\n",
    "\n",
    "Now it's time to do more serious stuff. First of all we need to load the root ntuple from a root file."
   ]
  },
  {
   "cell_type": "code",
   "execution_count": 3,
   "id": "bizarre-gabriel",
   "metadata": {},
   "outputs": [
    {
     "data": {
      "text/plain": [
       "['XhhMiniNtuple;1',\n",
       " 'cutflow_XhhMiniNtuple;1',\n",
       " 'cutflow_weighted_XhhMiniNtuple;1',\n",
       " 'MetaData_EventCount_XhhMiniNtuple;1']"
      ]
     },
     "execution_count": 3,
     "metadata": {},
     "output_type": "execute_result"
    }
   ],
   "source": [
    "filename='/eos/home-v/valentem/work/ATLAS/HH/HL-LHC/grid_outputs/user.valentem.HH4B.600463.hh_signals..AB21.2.163.valentem_hllhc_2021-04-29_2.full_nonres_MiniNTuple.root/user.valentem.25450677._000001.MiniNTuple.root'\n",
    "file = ur.open(filename)\n",
    "file.keys()"
   ]
  },
  {
   "cell_type": "markdown",
   "id": "expensive-register",
   "metadata": {},
   "source": [
    "The output should tell you that there is a `TTree` called `XhhMiniNtuple` and 3 other histograms (these shows some data information, but they are not really useful now). In order to load the TTree in python you can do the following:"
   ]
  },
  {
   "cell_type": "code",
   "execution_count": 4,
   "id": "decent-governor",
   "metadata": {},
   "outputs": [
    {
     "name": "stdout",
     "output_type": "stream",
     "text": [
      "<TTree 'XhhMiniNtuple' (79 branches) at 0x7f410fbe2ac8>\n"
     ]
    }
   ],
   "source": [
    "tree_name='XhhMiniNtuple'\n",
    "tree = file[tree_name]\n",
    "print(tree)"
   ]
  },
  {
   "cell_type": "markdown",
   "id": "simple-values",
   "metadata": {},
   "source": [
    "And if it's all successful you should see as output a printout of the tree object! :) Now, you can look at which branches this TTree contains by using again the `keys()` method, similarly to a standard python dictionary:"
   ]
  },
  {
   "cell_type": "code",
   "execution_count": 5,
   "id": "enormous-climate",
   "metadata": {},
   "outputs": [
    {
     "data": {
      "text/plain": [
       "['runNumber',\n",
       " 'eventNumber',\n",
       " 'lumiBlock',\n",
       " 'coreFlags',\n",
       " 'bcid',\n",
       " 'mcEventNumber',\n",
       " 'mcChannelNumber',\n",
       " 'mcEventWeight',\n",
       " 'NPV',\n",
       " 'actualInteractionsPerCrossing',\n",
       " 'averageInteractionsPerCrossing',\n",
       " 'weight_pileup',\n",
       " 'correctedAverageMu',\n",
       " 'correctedAndScaledAverageMu',\n",
       " 'correctedActualMu',\n",
       " 'correctedAndScaledActualMu',\n",
       " 'rand_run_nr',\n",
       " 'rand_lumiblock_nr',\n",
       " 'nresolvedJets',\n",
       " 'resolvedJets_E',\n",
       " 'resolvedJets_pt',\n",
       " 'resolvedJets_px',\n",
       " 'resolvedJets_py',\n",
       " 'resolvedJets_pz',\n",
       " 'resolvedJets_phi',\n",
       " 'resolvedJets_eta',\n",
       " 'resolvedJets_ConeTruthLabelID',\n",
       " 'resolvedJets_TruthCount',\n",
       " 'resolvedJets_TruthLabelDeltaR_B',\n",
       " 'resolvedJets_TruthLabelDeltaR_C',\n",
       " 'resolvedJets_TruthLabelDeltaR_T',\n",
       " 'resolvedJets_PartonTruthLabelID',\n",
       " 'resolvedJets_GhostTruthAssociationFraction',\n",
       " 'resolvedJets_truth_E',\n",
       " 'resolvedJets_truth_pt',\n",
       " 'resolvedJets_truth_phi',\n",
       " 'resolvedJets_truth_eta',\n",
       " 'ntruth',\n",
       " 'truth_E',\n",
       " 'truth_pt',\n",
       " 'truth_px',\n",
       " 'truth_py',\n",
       " 'truth_pz',\n",
       " 'truth_phi',\n",
       " 'truth_eta',\n",
       " 'truth_pdgId',\n",
       " 'truth_status',\n",
       " 'truth_barcode',\n",
       " 'truth_is_higgs',\n",
       " 'truth_is_bhad',\n",
       " 'truth_Bdecay_x',\n",
       " 'truth_Bdecay_y',\n",
       " 'truth_Bdecay_z',\n",
       " 'truth_nParents',\n",
       " 'truth_parent_pdgId',\n",
       " 'truth_parent_barcode',\n",
       " 'truth_parent_status',\n",
       " 'truth_nChildren',\n",
       " 'truth_child_pdgId',\n",
       " 'truth_child_barcode',\n",
       " 'truth_child_status',\n",
       " 'truth_mtt',\n",
       " 'isVHH',\n",
       " 'truth_mHH',\n",
       " 'truth_pT_H1',\n",
       " 'resolved_nGoodJets',\n",
       " 'resolved_nBTags',\n",
       " 'resolved_nValidPairings',\n",
       " 'resolved_isSR',\n",
       " 'resolved_isVR',\n",
       " 'resolved_isCR',\n",
       " 'resolved_mHH',\n",
       " 'truthjet_antikt4_pt',\n",
       " 'truthjet_antikt4_eta',\n",
       " 'truthjet_antikt4_phi',\n",
       " 'truthjet_antikt4_m',\n",
       " 'passedEmulatedTriggerHashes',\n",
       " 'weight',\n",
       " 'weight_xs']"
      ]
     },
     "execution_count": 5,
     "metadata": {},
     "output_type": "execute_result"
    }
   ],
   "source": [
    "tree.keys()"
   ]
  },
  {
   "cell_type": "markdown",
   "id": "constant-joyce",
   "metadata": {},
   "source": [
    "If all it's right you should see a bunch of keys telling you what is stored in the ntuple. You won't need all these variables but the important ones will be the ones called `resolvedJets_*` which, for each event, will contain a `vector<float>` corresponding to the jets energy, transverse momentum $p_T$, etc. Another way to explore the TTree is through the `show()` method:"
   ]
  },
  {
   "cell_type": "code",
   "execution_count": 11,
   "id": "blind-equity",
   "metadata": {},
   "outputs": [
    {
     "name": "stdout",
     "output_type": "stream",
     "text": [
      "name                 | typename                 | interpretation                \n",
      "---------------------+--------------------------+-------------------------------\n",
      "runNumber            | int32_t                  | AsDtype('>i4')\n",
      "eventNumber          | int64_t                  | AsDtype('>i8')\n",
      "lumiBlock            | int32_t                  | AsDtype('>i4')\n",
      "coreFlags            | uint32_t                 | AsDtype('>u4')\n",
      "bcid                 | int32_t                  | AsDtype('>i4')\n",
      "mcEventNumber        | int32_t                  | AsDtype('>i4')\n",
      "mcChannelNumber      | int32_t                  | AsDtype('>i4')\n",
      "mcEventWeight        | float                    | AsDtype('>f4')\n",
      "NPV                  | int32_t                  | AsDtype('>i4')\n",
      "actualInteraction... | float                    | AsDtype('>f4')\n",
      "averageInteractio... | float                    | AsDtype('>f4')\n",
      "weight_pileup        | float                    | AsDtype('>f4')\n",
      "correctedAverageMu   | float                    | AsDtype('>f4')\n",
      "correctedAndScale... | float                    | AsDtype('>f4')\n",
      "correctedActualMu    | float                    | AsDtype('>f4')\n",
      "correctedAndScale... | float                    | AsDtype('>f4')\n",
      "rand_run_nr          | int32_t                  | AsDtype('>i4')\n",
      "rand_lumiblock_nr    | int32_t                  | AsDtype('>i4')\n",
      "nresolvedJets        | int32_t                  | AsDtype('>i4')\n",
      "resolvedJets_E       | std::vector<float>       | AsJagged(AsDtype('>f4'), he...\n",
      "resolvedJets_pt      | std::vector<float>       | AsJagged(AsDtype('>f4'), he...\n",
      "resolvedJets_px      | std::vector<float>       | AsJagged(AsDtype('>f4'), he...\n",
      "resolvedJets_py      | std::vector<float>       | AsJagged(AsDtype('>f4'), he...\n",
      "resolvedJets_pz      | std::vector<float>       | AsJagged(AsDtype('>f4'), he...\n",
      "resolvedJets_phi     | std::vector<float>       | AsJagged(AsDtype('>f4'), he...\n",
      "resolvedJets_eta     | std::vector<float>       | AsJagged(AsDtype('>f4'), he...\n",
      "resolvedJets_Cone... | std::vector<int32_t>     | AsJagged(AsDtype('>i4'), he...\n",
      "resolvedJets_Trut... | std::vector<int32_t>     | AsJagged(AsDtype('>i4'), he...\n",
      "resolvedJets_Trut... | std::vector<float>       | AsJagged(AsDtype('>f4'), he...\n",
      "resolvedJets_Trut... | std::vector<float>       | AsJagged(AsDtype('>f4'), he...\n",
      "resolvedJets_Trut... | std::vector<float>       | AsJagged(AsDtype('>f4'), he...\n",
      "resolvedJets_Part... | std::vector<int32_t>     | AsJagged(AsDtype('>i4'), he...\n",
      "resolvedJets_Ghos... | std::vector<float>       | AsJagged(AsDtype('>f4'), he...\n",
      "resolvedJets_truth_E | std::vector<float>       | AsJagged(AsDtype('>f4'), he...\n",
      "resolvedJets_trut... | std::vector<float>       | AsJagged(AsDtype('>f4'), he...\n",
      "resolvedJets_trut... | std::vector<float>       | AsJagged(AsDtype('>f4'), he...\n",
      "resolvedJets_trut... | std::vector<float>       | AsJagged(AsDtype('>f4'), he...\n",
      "ntruth               | int32_t                  | AsDtype('>i4')\n",
      "truth_E              | std::vector<float>       | AsJagged(AsDtype('>f4'), he...\n",
      "truth_pt             | std::vector<float>       | AsJagged(AsDtype('>f4'), he...\n",
      "truth_px             | std::vector<float>       | AsJagged(AsDtype('>f4'), he...\n",
      "truth_py             | std::vector<float>       | AsJagged(AsDtype('>f4'), he...\n",
      "truth_pz             | std::vector<float>       | AsJagged(AsDtype('>f4'), he...\n",
      "truth_phi            | std::vector<float>       | AsJagged(AsDtype('>f4'), he...\n",
      "truth_eta            | std::vector<float>       | AsJagged(AsDtype('>f4'), he...\n",
      "truth_pdgId          | std::vector<int32_t>     | AsJagged(AsDtype('>i4'), he...\n",
      "truth_status         | std::vector<int32_t>     | AsJagged(AsDtype('>i4'), he...\n",
      "truth_barcode        | std::vector<int32_t>     | AsJagged(AsDtype('>i4'), he...\n",
      "truth_is_higgs       | std::vector<int32_t>     | AsJagged(AsDtype('>i4'), he...\n",
      "truth_is_bhad        | std::vector<int32_t>     | AsJagged(AsDtype('>i4'), he...\n",
      "truth_Bdecay_x       | std::vector<float>       | AsJagged(AsDtype('>f4'), he...\n",
      "truth_Bdecay_y       | std::vector<float>       | AsJagged(AsDtype('>f4'), he...\n",
      "truth_Bdecay_z       | std::vector<float>       | AsJagged(AsDtype('>f4'), he...\n",
      "truth_nParents       | std::vector<int32_t>     | AsJagged(AsDtype('>i4'), he...\n",
      "truth_parent_pdgId   | std::vector<std::vect... | AsObjects(AsVector(True, As...\n",
      "truth_parent_barcode | std::vector<std::vect... | AsObjects(AsVector(True, As...\n",
      "truth_parent_status  | std::vector<std::vect... | AsObjects(AsVector(True, As...\n",
      "truth_nChildren      | std::vector<int32_t>     | AsJagged(AsDtype('>i4'), he...\n",
      "truth_child_pdgId    | std::vector<std::vect... | AsObjects(AsVector(True, As...\n",
      "truth_child_barcode  | std::vector<std::vect... | AsObjects(AsVector(True, As...\n",
      "truth_child_status   | std::vector<std::vect... | AsObjects(AsVector(True, As...\n",
      "truth_mtt            | double                   | AsDtype('>f8')\n",
      "isVHH                | bool                     | AsDtype('bool')\n",
      "truth_mHH            | double                   | AsDtype('>f8')\n",
      "truth_pT_H1          | double                   | AsDtype('>f8')\n",
      "resolved_nGoodJets   | int32_t                  | AsDtype('>i4')\n",
      "resolved_nBTags      | int32_t                  | AsDtype('>i4')\n",
      "resolved_nValidPa... | int32_t                  | AsDtype('>i4')\n",
      "resolved_isSR        | bool                     | AsDtype('bool')\n",
      "resolved_isVR        | bool                     | AsDtype('bool')\n",
      "resolved_isCR        | bool                     | AsDtype('bool')\n",
      "resolved_mHH         | float                    | AsDtype('>f4')\n",
      "truthjet_antikt4_pt  | std::vector<float>       | AsJagged(AsDtype('>f4'), he...\n",
      "truthjet_antikt4_eta | std::vector<float>       | AsJagged(AsDtype('>f4'), he...\n",
      "truthjet_antikt4_phi | std::vector<float>       | AsJagged(AsDtype('>f4'), he...\n",
      "truthjet_antikt4_m   | std::vector<float>       | AsJagged(AsDtype('>f4'), he...\n",
      "passedEmulatedTri... | std::vector<uint64_t>    | AsJagged(AsDtype('>u8'), he...\n",
      "weight               | float                    | AsDtype('>f4')\n",
      "weight_xs            | float                    | AsDtype('>f4')\n",
      "\n",
      "The number of entries for this TTree is 108000\n"
     ]
    }
   ],
   "source": [
    "tree.show()\n",
    "print('\\nThe number of entries for this TTree is', tree.num_entries)"
   ]
  },
  {
   "cell_type": "markdown",
   "id": "union-begin",
   "metadata": {},
   "source": [
    "which also tells you the variable type associated to each branch. :) Cool right?! Now we can start to explore some numbers from the tree, for example for the jet transverse momentum called `resolvedJets_pt`."
   ]
  },
  {
   "cell_type": "code",
   "execution_count": 20,
   "id": "illegal-shoulder",
   "metadata": {},
   "outputs": [
    {
     "name": "stdout",
     "output_type": "stream",
     "text": [
      "[[85.9, 70.5, 59.7, 59, 57.9, 52.5, 46.2, ... 24.1, 23.4, 21.5, 21.2, 20.9, 20.4]]\n"
     ]
    }
   ],
   "source": [
    "jet_pts = tree['resolvedJets_pt'].array()\n",
    "print(jet_pts)"
   ]
  },
  {
   "cell_type": "markdown",
   "id": "typical-disclosure",
   "metadata": {},
   "source": [
    "The loaded object will be a list containing all the jet $p_T$ for all the events. For example, for a specific event we can load the pT of the jets with:"
   ]
  },
  {
   "cell_type": "code",
   "execution_count": 43,
   "id": "bright-outline",
   "metadata": {
    "scrolled": false
   },
   "outputs": [
    {
     "name": "stdout",
     "output_type": "stream",
     "text": [
      "[146, 85, 73.8, 62.2, 51.9, 50.4, 49.9, ... 23.9, 23.8, 22.6, 22.5, 22.1, 21.8, 21.3] 29\n"
     ]
    }
   ],
   "source": [
    "evt_num=1\n",
    "print(jet_pts[evt_num],len(jet_pts[evt_num]))"
   ]
  },
  {
   "cell_type": "markdown",
   "id": "scenic-battery",
   "metadata": {},
   "source": [
    "This vector is the vector containing the $p_T$ or all the jets in the event corresponding to index 1. You can see that this event has a total of 29 jets (this is quite high because of pileup). You can explore other events by changing the index. :)"
   ]
  },
  {
   "cell_type": "markdown",
   "id": "focused-beverage",
   "metadata": {},
   "source": [
    "For the same event, you can look also at other variables of the jets, for example the $\\eta$ and $\\phi$ coordinates:"
   ]
  },
  {
   "cell_type": "code",
   "execution_count": 44,
   "id": "designing-democracy",
   "metadata": {},
   "outputs": [
    {
     "name": "stdout",
     "output_type": "stream",
     "text": [
      "[-1.89, -1.98, 2.11, -4.41, -3.65, 4.65, ... 1.14, 0.648, -2.44, -2.31, -1.06, 1.92]\n",
      "[-2.69, 0.273, 1.24, -2.84, 0.681, 2.66, ... -1.7, -1.69, -2.8, 2.77, -2.33, -2.82]\n"
     ]
    }
   ],
   "source": [
    "jet_eta = tree['resolvedJets_eta'].array()\n",
    "jet_phi = tree['resolvedJets_phi'].array()\n",
    "\n",
    "print(jet_eta[evt_num])\n",
    "print(jet_phi[evt_num])"
   ]
  },
  {
   "cell_type": "markdown",
   "id": "mediterranean-rubber",
   "metadata": {},
   "source": [
    "We can even apply some selections using standard `numpy` array operations. For example, if I want to check the $\\eta$ coordinate of all the jets with $p_T > 100\\;\\text{GeV}$ what I can do is:"
   ]
  },
  {
   "cell_type": "code",
   "execution_count": 47,
   "id": "competitive-sensitivity",
   "metadata": {},
   "outputs": [
    {
     "name": "stdout",
     "output_type": "stream",
     "text": [
      "[[False, False, False, False, False, False, ... False, False, False, False, False]]\n"
     ]
    }
   ],
   "source": [
    "selection=jet_pts>100.\n",
    "print(selection) #This will correspond to an array of booleans arrays (True or False) specifying if the jet in this position satisfies indeed pT > 100"
   ]
  },
  {
   "cell_type": "markdown",
   "id": "parallel-installation",
   "metadata": {},
   "source": [
    "We can then select all the jets passing this selection with:"
   ]
  },
  {
   "cell_type": "code",
   "execution_count": 48,
   "id": "fitted-words",
   "metadata": {},
   "outputs": [
    {
     "name": "stdout",
     "output_type": "stream",
     "text": [
      "[[], [146], [283, 243, 139], [166, 138], ... [125], [195, 170], [185, 150, 126]]\n"
     ]
    }
   ],
   "source": [
    "jet_pts_100GeV = jet_pts[selection]\n",
    "print(jet_pts_100GeV)"
   ]
  },
  {
   "cell_type": "markdown",
   "id": "robust-switzerland",
   "metadata": {},
   "source": [
    "If everything is right, you should see that all the pT of `jet_pts_100GeV` is larger than 100 GeV. You can do the same thing with the jet_eta, phi, etc. For example:"
   ]
  },
  {
   "cell_type": "code",
   "execution_count": 49,
   "id": "alike-mongolia",
   "metadata": {},
   "outputs": [
    {
     "name": "stdout",
     "output_type": "stream",
     "text": [
      "[[], [-1.89], [0.73, 1.51, 2.02], ... [0.0325, -0.0159], [-1.94, -1.51, 1.8]]\n"
     ]
    }
   ],
   "source": [
    "jet_eta_100GeV = jet_eta[selection]\n",
    "jet_phi_100GeV = jet_phi[selection]\n",
    "print(jet_eta_100GeV)"
   ]
  },
  {
   "cell_type": "markdown",
   "id": "absent-mystery",
   "metadata": {},
   "source": [
    "This will tell you the $\\eta$ coordinate of the jets having $p_T$ greater than $100\\;\\text{GeV}$. Now, what you can do is: learn more about uproot and the variables stored in the ntuples. You don't need to understand all of those for now, but try to understand what these are as much as you can by making selections about some of these."
   ]
  },
  {
   "cell_type": "code",
   "execution_count": null,
   "id": "similar-portfolio",
   "metadata": {},
   "outputs": [],
   "source": []
  }
 ],
 "metadata": {
  "kernelspec": {
   "display_name": "Python 3",
   "language": "python",
   "name": "python3"
  },
  "language_info": {
   "codemirror_mode": {
    "name": "ipython",
    "version": 3
   },
   "file_extension": ".py",
   "mimetype": "text/x-python",
   "name": "python",
   "nbconvert_exporter": "python",
   "pygments_lexer": "ipython3",
   "version": "3.6.5"
  }
 },
 "nbformat": 4,
 "nbformat_minor": 5
}
